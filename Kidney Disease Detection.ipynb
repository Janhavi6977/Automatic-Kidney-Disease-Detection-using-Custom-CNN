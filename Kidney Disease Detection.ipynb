{
 "cells": [
  {
   "cell_type": "code",
   "execution_count": 32,
   "id": "015ecbfc",
   "metadata": {},
   "outputs": [
    {
     "name": "stdout",
     "output_type": "stream",
     "text": [
      "Requirement already satisfied: split_folders in c:\\users\\tripti mishra\\anaconda3\\lib\\site-packages (0.5.1)\n",
      "Note: you may need to restart the kernel to use updated packages.\n"
     ]
    }
   ],
   "source": [
    "pip install split_folders"
   ]
  },
  {
   "cell_type": "code",
   "execution_count": 33,
   "id": "e2237901",
   "metadata": {},
   "outputs": [],
   "source": [
    "import zipfile\n",
    "\n",
    "with zipfile.ZipFile('archive (5).zip', 'r') as zip_ref:\n",
    "    zip_ref.extractall()"
   ]
  },
  {
   "cell_type": "code",
   "execution_count": 34,
   "id": "d7ae3de4",
   "metadata": {},
   "outputs": [
    {
     "name": "stderr",
     "output_type": "stream",
     "text": [
      "Copying files: 12446 files [02:44, 75.55 files/s]\n"
     ]
    }
   ],
   "source": [
    "import splitfolders\n",
    "splitfolders.ratio(\n",
    "    \"CT-KIDNEY-DATASET-Normal-Cyst-Tumor-Stone/CT-KIDNEY-DATASET-Normal-Cyst-Tumor-Stone\",\n",
    "   output=\"output\",\n",
    "   seed=7,\n",
    "   ratio=(0.8,0.1, 0.1)\n",
    ")"
   ]
  },
  {
   "cell_type": "code",
   "execution_count": 35,
   "id": "34e63d23",
   "metadata": {},
   "outputs": [],
   "source": [
    "import numpy as np\n",
    "import pandas as pd\n",
    "import matplotlib.pyplot as plt\n",
    "from tensorflow.keras.preprocessing.image import ImageDataGenerator\n",
    "from tensorflow.keras.applications import VGG16\n",
    "from keras.layers import Dense, Flatten, Conv2D, MaxPooling2D, Dropout\n",
    "from tensorflow.keras.models import Sequential,Model\n",
    "import keras\n",
    "from tensorflow.keras.models import Model\n",
    "from tensorflow.keras.optimizers.legacy import SGD,Adam\n",
    "import tensorflow as tf\n",
    "import seaborn as sns\n",
    "import os\n",
    "import glob"
   ]
  },
  {
   "cell_type": "code",
   "execution_count": 36,
   "id": "75f64fc5",
   "metadata": {},
   "outputs": [
    {
     "data": {
      "text/plain": [
       "['CT-KIDNEY-DATASET-Normal-Cyst-Tumor-Stone']"
      ]
     },
     "execution_count": 36,
     "metadata": {},
     "output_type": "execute_result"
    }
   ],
   "source": [
    "os.listdir('CT-KIDNEY-DATASET-Normal-Cyst-Tumor-Stone')"
   ]
  },
  {
   "cell_type": "code",
   "execution_count": 37,
   "id": "7fee0063",
   "metadata": {},
   "outputs": [
    {
     "data": {
      "text/plain": [
       "['Cyst', 'Normal', 'Stone', 'Tumor']"
      ]
     },
     "execution_count": 37,
     "metadata": {},
     "output_type": "execute_result"
    }
   ],
   "source": [
    "os.listdir('CT-KIDNEY-DATASET-Normal-Cyst-Tumor-Stone/CT-KIDNEY-DATASET-Normal-Cyst-Tumor-Stone')"
   ]
  },
  {
   "cell_type": "code",
   "execution_count": 38,
   "id": "41571242",
   "metadata": {},
   "outputs": [
    {
     "data": {
      "image/png": "[encoded data removed]",
      "text/plain": [
       "<Figure size 432x360 with 1 Axes>"
      ]
     },
     "metadata": {
      "needs_background": "light"
     },
     "output_type": "display_data"
    }
   ],
   "source": [
    "class_names = ['Cyst', 'Normal', 'Tumor', 'Stone'] \n",
    "\n",
    "cyst = len(os.listdir('CT-KIDNEY-DATASET-Normal-Cyst-Tumor-Stone/CT-KIDNEY-DATASET-Normal-Cyst-Tumor-Stone/Cyst'))\n",
    "normal = len(os.listdir('CT-KIDNEY-DATASET-Normal-Cyst-Tumor-Stone/CT-KIDNEY-DATASET-Normal-Cyst-Tumor-Stone/Normal'))\n",
    "stone = len(os.listdir('CT-KIDNEY-DATASET-Normal-Cyst-Tumor-Stone/CT-KIDNEY-DATASET-Normal-Cyst-Tumor-Stone/Stone'))\n",
    "tumor = len(os.listdir('CT-KIDNEY-DATASET-Normal-Cyst-Tumor-Stone/CT-KIDNEY-DATASET-Normal-Cyst-Tumor-Stone/Tumor'))\n",
    "images = [cyst, normal, stone, tumor]\n",
    "\n",
    "plt.figure(figsize=(6,5))\n",
    "sns.barplot(x= class_names, y= images, palette= sns.cubehelix_palette(start=2.8, rot=.1))\n",
    "plt.title('Frequency of Each Class in the Dataset', fontsize=14)\n",
    "plt.xlabel('Class names', fontsize=12)\n",
    "plt.ylabel('Count', fontsize=12)\n",
    "plt.xticks(range(len(images)))\n",
    "plt.show()"
   ]
  },
  {
   "cell_type": "code",
   "execution_count": 39,
   "id": "cdf5932a",
   "metadata": {},
   "outputs": [],
   "source": [
    "train_datagen = ImageDataGenerator(rescale=1/255)\n",
    "valid_datagen = ImageDataGenerator(rescale=1/255)\n",
    "test_datagen = ImageDataGenerator(rescale=1/255)"
   ]
  },
  {
   "cell_type": "code",
   "execution_count": 40,
   "id": "e982458a",
   "metadata": {},
   "outputs": [
    {
     "name": "stdout",
     "output_type": "stream",
     "text": [
      "Found 9955 images belonging to 4 classes.\n",
      "Found 1249 images belonging to 4 classes.\n",
      "Found 1242 images belonging to 4 classes.\n"
     ]
    }
   ],
   "source": [
    "train_dataset = train_datagen.flow_from_directory('output/train',\n",
    "                                                  target_size=(90, 90),\n",
    "                                                  color_mode='grayscale', \n",
    "                                                  class_mode='categorical', \n",
    "                                                  batch_size=64,\n",
    "                                                  )\n",
    "\n",
    "test_dataset = test_datagen.flow_from_directory('output/test',\n",
    "                                                target_size=(90, 90),\n",
    "                                                class_mode='categorical',\n",
    "                                                color_mode='grayscale',\n",
    "                                                batch_size=64,\n",
    "                                                shuffle=False\n",
    "                                                )\n",
    "\n",
    "valid_dataset = valid_datagen.flow_from_directory('output/val',\n",
    "                                                  target_size=(90, 90),\n",
    "                                                  class_mode='categorical',\n",
    "                                                  batch_size=64,\n",
    "                                                  color_mode='grayscale',\n",
    "                                                  )"
   ]
  },
  {
   "cell_type": "code",
   "execution_count": 41,
   "id": "706a9f8c",
   "metadata": {},
   "outputs": [],
   "source": [
    "model = keras.Sequential()"
   ]
  },
  {
   "cell_type": "code",
   "execution_count": 42,
   "id": "b486ec9c",
   "metadata": {},
   "outputs": [],
   "source": [
    "#Block 1\n",
    "model.add(Conv2D(64,kernel_size=(3,3), padding=\"same\",activation=\"relu\",input_shape=train_dataset.image_shape))\n",
    "model.add(Conv2D(64,kernel_size=(3,3), padding=\"same\",activation=\"relu\"))\n",
    "model.add(MaxPooling2D((2,2),strides=(2,2)))"
   ]
  },
  {
   "cell_type": "code",
   "execution_count": 43,
   "id": "1518fc50",
   "metadata": {},
   "outputs": [],
   "source": [
    "#Block 2\n",
    "model.add(Conv2D(128,kernel_size=(3,3), padding=\"same\",activation=\"relu\"))\n",
    "model.add(Conv2D(128,kernel_size=(3,3), padding=\"same\",activation=\"relu\"))\n",
    "model.add(MaxPooling2D((2,2),strides=(2,2)))"
   ]
  },
  {
   "cell_type": "code",
   "execution_count": 44,
   "id": "c0de90a2",
   "metadata": {},
   "outputs": [],
   "source": [
    "#Block 3\n",
    "model.add(Conv2D(256,kernel_size=(3,3), padding=\"same\",activation=\"relu\"))\n",
    "model.add(Conv2D(256,kernel_size=(3,3), padding=\"same\",activation=\"relu\"))\n",
    "model.add(Conv2D(256,kernel_size=(3,3), padding=\"same\",activation=\"relu\"))\n",
    "model.add(MaxPooling2D((2,2),strides=(2,2)))"
   ]
  },
  {
   "cell_type": "code",
   "execution_count": 45,
   "id": "bca97239",
   "metadata": {},
   "outputs": [],
   "source": [
    "#block 4\n",
    "model.add(Conv2D(512,kernel_size=(3,3), padding=\"same\",activation=\"relu\"))\n",
    "model.add(Conv2D(512,kernel_size=(3,3), padding=\"same\",activation=\"relu\"))\n",
    "model.add(Conv2D(512,kernel_size=(3,3), padding=\"same\",activation=\"relu\"))\n",
    "model.add(MaxPooling2D((2,2),strides=(2,2)))"
   ]
  },
  {
   "cell_type": "code",
   "execution_count": 46,
   "id": "1c50339c",
   "metadata": {},
   "outputs": [],
   "source": [
    "#Block 5\n",
    "model.add(Conv2D(512,kernel_size=(3,3), padding=\"same\",activation=\"relu\"))\n",
    "model.add(Conv2D(512,kernel_size=(3,3), padding=\"same\",activation=\"relu\"))\n",
    "model.add(Conv2D(512,kernel_size=(3,3), padding=\"same\",activation=\"relu\"))\n",
    "model.add(MaxPooling2D((2,2),strides=(2,2)))"
   ]
  },
  {
   "cell_type": "code",
   "execution_count": 47,
   "id": "44fec6dc",
   "metadata": {},
   "outputs": [],
   "source": [
    "model.add(Flatten())\n",
    "model.add(Dense(128, activation=\"relu\"))\n",
    "model.add(Dense(64, activation=\"relu\"))\n",
    "model.add(Dense(4, activation=\"softmax\"))"
   ]
  },
  {
   "cell_type": "code",
   "execution_count": 48,
   "id": "689fecbc",
   "metadata": {},
   "outputs": [
    {
     "name": "stderr",
     "output_type": "stream",
     "text": [
      "C:\\Users\\Tripti Mishra\\anaconda3\\lib\\site-packages\\keras\\optimizers\\optimizer_v2\\adam.py:117: UserWarning: The `lr` argument is deprecated, use `learning_rate` instead.\n",
      "  super().__init__(name, **kwargs)\n"
     ]
    }
   ],
   "source": [
    "model.compile(optimizer=Adam(lr=0.0001), loss='categorical_crossentropy', metrics=['accuracy'])"
   ]
  },
  {
   "cell_type": "code",
   "execution_count": 49,
   "id": "f3d0d136",
   "metadata": {},
   "outputs": [
    {
     "name": "stdout",
     "output_type": "stream",
     "text": [
      "Model: \"sequential_2\"\n",
      "_________________________________________________________________\n",
      " Layer (type)                Output Shape              Param #   \n",
      "=================================================================\n",
      " conv2d_15 (Conv2D)          (None, 90, 90, 64)        640       \n",
      "                                                                 \n",
      " conv2d_16 (Conv2D)          (None, 90, 90, 64)        36928     \n",
      "                                                                 \n",
      " max_pooling2d_6 (MaxPooling  (None, 45, 45, 64)       0         \n",
      " 2D)                                                             \n",
      "                                                                 \n",
      " conv2d_17 (Conv2D)          (None, 45, 45, 128)       73856     \n",
      "                                                                 \n",
      " conv2d_18 (Conv2D)          (None, 45, 45, 128)       147584    \n",
      "                                                                 \n",
      " max_pooling2d_7 (MaxPooling  (None, 22, 22, 128)      0         \n",
      " 2D)                                                             \n",
      "                                                                 \n",
      " conv2d_19 (Conv2D)          (None, 22, 22, 256)       295168    \n",
      "                                                                 \n",
      " conv2d_20 (Conv2D)          (None, 22, 22, 256)       590080    \n",
      "                                                                 \n",
      " conv2d_21 (Conv2D)          (None, 22, 22, 256)       590080    \n",
      "                                                                 \n",
      " max_pooling2d_8 (MaxPooling  (None, 11, 11, 256)      0         \n",
      " 2D)                                                             \n",
      "                                                                 \n",
      " conv2d_22 (Conv2D)          (None, 11, 11, 512)       1180160   \n",
      "                                                                 \n",
      " conv2d_23 (Conv2D)          (None, 11, 11, 512)       2359808   \n",
      "                                                                 \n",
      " conv2d_24 (Conv2D)          (None, 11, 11, 512)       2359808   \n",
      "                                                                 \n",
      " max_pooling2d_9 (MaxPooling  (None, 5, 5, 512)        0         \n",
      " 2D)                                                             \n",
      "                                                                 \n",
      " conv2d_25 (Conv2D)          (None, 5, 5, 512)         2359808   \n",
      "                                                                 \n",
      " conv2d_26 (Conv2D)          (None, 5, 5, 512)         2359808   \n",
      "                                                                 \n",
      " conv2d_27 (Conv2D)          (None, 5, 5, 512)         2359808   \n",
      "                                                                 \n",
      " max_pooling2d_10 (MaxPoolin  (None, 2, 2, 512)        0         \n",
      " g2D)                                                            \n",
      "                                                                 \n",
      " flatten_1 (Flatten)         (None, 2048)              0         \n",
      "                                                                 \n",
      " dense_3 (Dense)             (None, 128)               262272    \n",
      "                                                                 \n",
      " dense_4 (Dense)             (None, 64)                8256      \n",
      "                                                                 \n",
      " dense_5 (Dense)             (None, 4)                 260       \n",
      "                                                                 \n",
      "=================================================================\n",
      "Total params: 14,984,324\n",
      "Trainable params: 14,984,324\n",
      "Non-trainable params: 0\n",
      "_________________________________________________________________\n"
     ]
    }
   ],
   "source": [
    "model.build()\n",
    "model.summary()"
   ]
  },
  {
   "cell_type": "code",
   "execution_count": 50,
   "id": "aa95c908",
   "metadata": {},
   "outputs": [
    {
     "name": "stdout",
     "output_type": "stream",
     "text": [
      "Epoch 1/40\n",
      "20/20 [==============================] - 191s 9s/step - loss: 1.2863 - accuracy: 0.4203 - val_loss: 1.2470 - val_accuracy: 0.4082\n",
      "Epoch 2/40\n",
      "20/20 [==============================] - 166s 8s/step - loss: 1.2278 - accuracy: 0.4117 - val_loss: 1.1363 - val_accuracy: 0.4670\n",
      "Epoch 3/40\n",
      "20/20 [==============================] - 162s 8s/step - loss: 1.0100 - accuracy: 0.6383 - val_loss: 0.9773 - val_accuracy: 0.6264\n",
      "Epoch 4/40\n",
      "20/20 [==============================] - 159s 8s/step - loss: 0.9197 - accuracy: 0.6445 - val_loss: 0.8466 - val_accuracy: 0.6916\n",
      "Epoch 5/40\n",
      "20/20 [==============================] - 154s 8s/step - loss: 0.8363 - accuracy: 0.6945 - val_loss: 0.8012 - val_accuracy: 0.6940\n",
      "Epoch 6/40\n",
      "20/20 [==============================] - 154s 8s/step - loss: 0.7704 - accuracy: 0.7258 - val_loss: 0.7568 - val_accuracy: 0.6812\n",
      "Epoch 7/40\n",
      "20/20 [==============================] - 154s 8s/step - loss: 0.8497 - accuracy: 0.6578 - val_loss: 0.8210 - val_accuracy: 0.6924\n",
      "Epoch 8/40\n",
      "20/20 [==============================] - 153s 8s/step - loss: 0.7829 - accuracy: 0.6961 - val_loss: 0.6882 - val_accuracy: 0.7472\n",
      "Epoch 9/40\n",
      "20/20 [==============================] - 151s 8s/step - loss: 0.6377 - accuracy: 0.7650 - val_loss: 0.5409 - val_accuracy: 0.7931\n",
      "Epoch 10/40\n",
      "20/20 [==============================] - 154s 8s/step - loss: 0.6061 - accuracy: 0.7633 - val_loss: 0.5622 - val_accuracy: 0.7681\n",
      "Epoch 11/40\n",
      "20/20 [==============================] - 154s 8s/step - loss: 0.5137 - accuracy: 0.7961 - val_loss: 0.3977 - val_accuracy: 0.8422\n",
      "Epoch 12/40\n",
      "20/20 [==============================] - 155s 8s/step - loss: 0.4493 - accuracy: 0.8188 - val_loss: 0.3705 - val_accuracy: 0.8647\n",
      "Epoch 13/40\n",
      "20/20 [==============================] - 150s 8s/step - loss: 0.4436 - accuracy: 0.8369 - val_loss: 0.4643 - val_accuracy: 0.8213\n",
      "Epoch 14/40\n",
      "20/20 [==============================] - 150s 8s/step - loss: 0.3212 - accuracy: 0.8673 - val_loss: 0.2870 - val_accuracy: 0.8720\n",
      "Epoch 15/40\n",
      "20/20 [==============================] - 153s 8s/step - loss: 0.4096 - accuracy: 0.8359 - val_loss: 0.3292 - val_accuracy: 0.8696\n",
      "Epoch 16/40\n",
      "20/20 [==============================] - 152s 8s/step - loss: 0.3312 - accuracy: 0.8664 - val_loss: 0.2505 - val_accuracy: 0.9155\n",
      "Epoch 17/40\n",
      "20/20 [==============================] - 152s 8s/step - loss: 0.2687 - accuracy: 0.8930 - val_loss: 0.3251 - val_accuracy: 0.8647\n",
      "Epoch 18/40\n",
      "20/20 [==============================] - 151s 8s/step - loss: 0.2362 - accuracy: 0.9180 - val_loss: 0.1997 - val_accuracy: 0.9251\n",
      "Epoch 19/40\n",
      "20/20 [==============================] - 153s 8s/step - loss: 0.1383 - accuracy: 0.9555 - val_loss: 0.1390 - val_accuracy: 0.9509\n",
      "Epoch 20/40\n",
      "20/20 [==============================] - 154s 8s/step - loss: 0.1545 - accuracy: 0.9406 - val_loss: 0.1481 - val_accuracy: 0.9501\n",
      "Epoch 21/40\n",
      "20/20 [==============================] - 130s 6s/step - loss: 0.1453 - accuracy: 0.9488 - val_loss: 0.1091 - val_accuracy: 0.9605\n",
      "Epoch 22/40\n",
      "20/20 [==============================] - 128s 6s/step - loss: 0.1224 - accuracy: 0.9539 - val_loss: 0.0937 - val_accuracy: 0.9750\n",
      "Epoch 23/40\n",
      "20/20 [==============================] - 126s 6s/step - loss: 0.1563 - accuracy: 0.9369 - val_loss: 0.1268 - val_accuracy: 0.9517\n",
      "Epoch 24/40\n",
      "20/20 [==============================] - 124s 6s/step - loss: 0.1133 - accuracy: 0.9600 - val_loss: 0.0685 - val_accuracy: 0.9823\n",
      "Epoch 25/40\n",
      "20/20 [==============================] - 126s 6s/step - loss: 0.0685 - accuracy: 0.9758 - val_loss: 0.1244 - val_accuracy: 0.9573\n",
      "Epoch 26/40\n",
      "20/20 [==============================] - 126s 6s/step - loss: 0.2705 - accuracy: 0.8961 - val_loss: 0.1680 - val_accuracy: 0.9461\n",
      "Epoch 27/40\n",
      "20/20 [==============================] - 126s 6s/step - loss: 0.1151 - accuracy: 0.9641 - val_loss: 0.0806 - val_accuracy: 0.9710\n",
      "Epoch 28/40\n",
      "20/20 [==============================] - 126s 6s/step - loss: 0.1143 - accuracy: 0.9656 - val_loss: 0.1061 - val_accuracy: 0.9622\n",
      "Epoch 29/40\n",
      "20/20 [==============================] - 126s 6s/step - loss: 0.0923 - accuracy: 0.9727 - val_loss: 0.0425 - val_accuracy: 0.9887\n",
      "Epoch 30/40\n",
      "20/20 [==============================] - 126s 6s/step - loss: 0.0528 - accuracy: 0.9797 - val_loss: 0.0651 - val_accuracy: 0.9815\n",
      "Epoch 31/40\n",
      "20/20 [==============================] - 126s 6s/step - loss: 0.0571 - accuracy: 0.9789 - val_loss: 0.0218 - val_accuracy: 0.9928\n",
      "Epoch 32/40\n",
      "20/20 [==============================] - 127s 6s/step - loss: 0.0676 - accuracy: 0.9781 - val_loss: 0.2102 - val_accuracy: 0.9380\n",
      "Epoch 33/40\n",
      "20/20 [==============================] - 127s 6s/step - loss: 0.1048 - accuracy: 0.9625 - val_loss: 0.1355 - val_accuracy: 0.9549\n",
      "Epoch 34/40\n",
      "20/20 [==============================] - 126s 6s/step - loss: 0.0650 - accuracy: 0.9773 - val_loss: 0.0289 - val_accuracy: 0.9952\n",
      "Epoch 35/40\n",
      "20/20 [==============================] - 128s 6s/step - loss: 0.0570 - accuracy: 0.9828 - val_loss: 0.0354 - val_accuracy: 0.9879\n",
      "Epoch 36/40\n",
      "20/20 [==============================] - 126s 6s/step - loss: 0.0377 - accuracy: 0.9859 - val_loss: 0.0280 - val_accuracy: 0.9895\n",
      "Epoch 37/40\n",
      "20/20 [==============================] - 126s 6s/step - loss: 0.0214 - accuracy: 0.9930 - val_loss: 0.0182 - val_accuracy: 0.9976\n",
      "Epoch 38/40\n",
      "20/20 [==============================] - 126s 6s/step - loss: 0.0122 - accuracy: 0.9977 - val_loss: 0.0159 - val_accuracy: 0.9944\n",
      "Epoch 39/40\n",
      "20/20 [==============================] - 126s 6s/step - loss: 0.0117 - accuracy: 0.9984 - val_loss: 0.0162 - val_accuracy: 0.9944\n",
      "Epoch 40/40\n",
      "20/20 [==============================] - 126s 6s/step - loss: 0.0255 - accuracy: 0.9930 - val_loss: 0.0129 - val_accuracy: 0.9960\n"
     ]
    }
   ],
   "source": [
    "model_fit = model.fit(train_dataset,\n",
    "                      validation_data=valid_dataset,\n",
    "                      steps_per_epoch = 20,\n",
    "                      epochs = 40)\n"
   ]
  },
  {
   "cell_type": "code",
   "execution_count": 51,
   "id": "e6e86d28",
   "metadata": {},
   "outputs": [
    {
     "data": {
      "image/png": "[encoded data removed]",
      "text/plain": [
       "<Figure size 1080x360 with 2 Axes>"
      ]
     },
     "metadata": {
      "needs_background": "light"
     },
     "output_type": "display_data"
    }
   ],
   "source": [
    "fig, ax = plt.subplots(1, 2, figsize=(15, 5))\n",
    "ax = ax.ravel()\n",
    "\n",
    "for i, met in enumerate([ 'accuracy', 'loss']):\n",
    "    ax[i].plot(model_fit.history[met])\n",
    "    ax[i].plot(model_fit.history['val_' + met])\n",
    "    ax[i].set_title('Model {}'.format(met))\n",
    "    ax[i].set_xlabel('epochs')\n",
    "    ax[i].set_ylabel(met)\n",
    "    ax[i].legend(['train', 'val'])"
   ]
  },
  {
   "cell_type": "code",
   "execution_count": 71,
   "id": "7bd12605",
   "metadata": {},
   "outputs": [
    {
     "name": "stdout",
     "output_type": "stream",
     "text": [
      "20/20 [==============================] - 20s 968ms/step\n"
     ]
    }
   ],
   "source": [
    "pred = model.predict(test_dataset)"
   ]
  },
  {
   "cell_type": "code",
   "execution_count": 72,
   "id": "577d74ce",
   "metadata": {},
   "outputs": [
    {
     "name": "stderr",
     "output_type": "stream",
     "text": [
      "C:\\Users\\Tripti Mishra\\AppData\\Local\\Temp\\ipykernel_34708\\2046277562.py:1: UserWarning: `Model.evaluate_generator` is deprecated and will be removed in a future version. Please use `Model.evaluate`, which supports generators.\n",
      "  model.evaluate_generator(test_dataset)\n"
     ]
    },
    {
     "data": {
      "text/plain": [
       "[0.017364710569381714, 0.9927942156791687]"
      ]
     },
     "execution_count": 72,
     "metadata": {},
     "output_type": "execute_result"
    }
   ],
   "source": [
    "model.evaluate_generator(test_dataset)"
   ]
  },
  {
   "cell_type": "code",
   "execution_count": 73,
   "id": "e177cac2",
   "metadata": {},
   "outputs": [
    {
     "data": {
      "text/plain": [
       "array([0, 0, 0, ..., 3, 3, 3], dtype=int64)"
      ]
     },
     "execution_count": 73,
     "metadata": {},
     "output_type": "execute_result"
    }
   ],
   "source": [
    "y_pred = np.argmax(pred, axis = 1)\n",
    "y_pred"
   ]
  },
  {
   "cell_type": "code",
   "execution_count": 74,
   "id": "1b306ec6",
   "metadata": {},
   "outputs": [],
   "source": [
    "y_true = test_dataset.classes"
   ]
  },
  {
   "cell_type": "code",
   "execution_count": 75,
   "id": "5f79d98b",
   "metadata": {},
   "outputs": [
    {
     "data": {
      "text/plain": [
       "array([[372,   0,   0,   0],\n",
       "       [  0, 508,   0,   1],\n",
       "       [  3,   5, 131,   0],\n",
       "       [  0,   0,   0, 229]], dtype=int64)"
      ]
     },
     "execution_count": 75,
     "metadata": {},
     "output_type": "execute_result"
    }
   ],
   "source": [
    "from sklearn.metrics import confusion_matrix\n",
    "\n",
    "cm = confusion_matrix(y_true, y_pred)\n",
    "cm"
   ]
  },
  {
   "cell_type": "code",
   "execution_count": 76,
   "id": "7a4a5462",
   "metadata": {},
   "outputs": [
    {
     "name": "stdout",
     "output_type": "stream",
     "text": [
      "              precision    recall  f1-score   support\n",
      "\n",
      "           0       0.99      1.00      1.00       372\n",
      "           1       0.99      1.00      0.99       509\n",
      "           2       1.00      0.94      0.97       139\n",
      "           3       1.00      1.00      1.00       229\n",
      "\n",
      "    accuracy                           0.99      1249\n",
      "   macro avg       0.99      0.99      0.99      1249\n",
      "weighted avg       0.99      0.99      0.99      1249\n",
      "\n"
     ]
    }
   ],
   "source": [
    "from sklearn.metrics import classification_report\n",
    "\n",
    "report = classification_report(y_true, y_pred)\n",
    "print(report)"
   ]
  },
  {
   "cell_type": "code",
   "execution_count": 77,
   "id": "3e3a3a6b",
   "metadata": {},
   "outputs": [],
   "source": [
    "diseases_labels = []\n",
    "\n",
    "for key, value in train_dataset.class_indices.items():\n",
    " diseases_labels.append(key)"
   ]
  },
  {
   "cell_type": "code",
   "execution_count": 87,
   "id": "08c6af0c",
   "metadata": {},
   "outputs": [],
   "source": [
    "def evaluate(actual, pred):\n",
    "  pre = []\n",
    "  for i in pred:\n",
    "    pre.append(np.argmax(i))\n",
    "\n",
    "  accuracy = (pre == actual).sum() / actual.shape[0]\n",
    "  print(f'Accuracy: {accuracy}')\n",
    "\n",
    " \n",
    "\n",
    "  fig, ax = plt.subplots(figsize=(10,8))\n",
    "  conf_mat = confusion_matrix(actual, pre)\n",
    "  sns.heatmap(conf_mat, annot=True, fmt='.0f', cmap=\"BuPu\", xticklabels=diseases_labels, yticklabels=diseases_labels).set_title('Confusion Matrix Heat map')\n",
    "  plt.show()"
   ]
  },
  {
   "cell_type": "code",
   "execution_count": 88,
   "id": "b9878af2",
   "metadata": {},
   "outputs": [
    {
     "name": "stdout",
     "output_type": "stream",
     "text": [
      "Accuracy: 0.9927942353883107\n"
     ]
    },
    {
     "data": {
      "image/png": "[encoded data removed]",
      "text/plain": [
       "<Figure size 720x576 with 2 Axes>"
      ]
     },
     "metadata": {
      "needs_background": "light"
     },
     "output_type": "display_data"
    }
   ],
   "source": [
    "evaluate(test_dataset.classes,pred)"
   ]
  },
  {
   "cell_type": "code",
   "execution_count": null,
   "id": "d63eed70",
   "metadata": {},
   "outputs": [],
   "source": []
  },
  {
   "cell_type": "code",
   "execution_count": null,
   "id": "3bc3a8dc",
   "metadata": {},
   "outputs": [],
   "source": []
  }
 ],
 "metadata": {
  "kernelspec": {
   "display_name": "Python 3 (ipykernel)",
   "language": "python",
   "name": "python3"
  },
  "language_info": {
   "codemirror_mode": {
    "name": "ipython",
    "version": 3
   },
   "file_extension": ".py",
   "mimetype": "text/x-python",
   "name": "python",
   "nbconvert_exporter": "python",
   "pygments_lexer": "ipython3",
   "version": "3.9.12"
  }
 },
 "nbformat": 4,
 "nbformat_minor": 5
}
